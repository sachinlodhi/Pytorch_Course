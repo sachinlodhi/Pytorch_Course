{
 "cells": [
  {
   "cell_type": "markdown",
   "id": "9fe0bca8-de16-4405-b61e-7ab6ed6731a8",
   "metadata": {},
   "source": [
    "1. Documentation reading - A big part of deep learning (and learning to code in general) is getting familiar with the documentation of a certain framework you're using. We'll be using the PyTorch documentation a lot throughout the rest of this course. So I'd recommend spending 10-minutes reading the following (it's okay if you don't get some things for now, the focus is not yet full understanding, it's awareness). See the documentation on torch.Tensor and for torch.cuda."
   ]
  },
  {
   "cell_type": "markdown",
   "id": "71863159-ed31-49f5-b95b-51d146b553a2",
   "metadata": {},
   "source": [
    "2. Create a random tensor with shape (7, 7)."
   ]
  },
  {
   "cell_type": "code",
   "execution_count": 4,
   "id": "5805a24e-9c4f-4185-9407-ea29b67e4a2c",
   "metadata": {},
   "outputs": [
    {
     "name": "stdout",
     "output_type": "stream",
     "text": [
      "tensor([[0.5675, 0.9096, 0.8838, 0.7958, 0.8475, 0.9309, 0.4042],\n",
      "        [0.2093, 0.1325, 0.9084, 0.6996, 0.1128, 0.3802, 0.7406],\n",
      "        [0.4413, 0.0889, 0.3232, 0.8807, 0.5000, 0.8574, 0.1887],\n",
      "        [0.9633, 0.0477, 0.0092, 0.8045, 0.8592, 0.6531, 0.5295],\n",
      "        [0.7795, 0.4039, 0.4073, 0.0878, 0.8474, 0.2499, 0.6306],\n",
      "        [0.1709, 0.9182, 0.1229, 0.5703, 0.1098, 0.5061, 0.7737],\n",
      "        [0.1447, 0.8302, 0.2007, 0.5294, 0.6869, 0.9426, 0.6196]])\n"
     ]
    }
   ],
   "source": [
    "import torch\n",
    "x = torch.rand(size = (7 ,7))\n",
    "print(x)"
   ]
  },
  {
   "cell_type": "markdown",
   "id": "5b8d961b-68ab-4bf4-bdc1-7619ebf06b02",
   "metadata": {},
   "source": [
    "3. Perform a matrix multiplication on the tensor from 2 with another random tensor with shape (1, 7) (hint: you may have to transpose the second tensor)."
   ]
  },
  {
   "cell_type": "code",
   "execution_count": 20,
   "id": "3dc348a0-b7db-469a-84a9-3c9efca8752b",
   "metadata": {},
   "outputs": [
    {
     "name": "stdout",
     "output_type": "stream",
     "text": [
      "tensor([[2.3000],\n",
      "        [1.4297],\n",
      "        [1.5608],\n",
      "        [1.6378],\n",
      "        [1.3173],\n",
      "        [1.3216],\n",
      "        [1.9008]])\n",
      "tensor([[0.0200, 0.0320, 0.0311, 0.0280, 0.0298, 0.0328, 0.0142],\n",
      "        [0.0435, 0.0275, 0.1888, 0.1454, 0.0235, 0.0790, 0.1539],\n",
      "        [0.1832, 0.0369, 0.1342, 0.3656, 0.2076, 0.3560, 0.0784],\n",
      "        [0.3978, 0.0197, 0.0038, 0.3322, 0.3548, 0.2697, 0.2187],\n",
      "        [0.4518, 0.2340, 0.2360, 0.0509, 0.4911, 0.1448, 0.3655],\n",
      "        [0.1281, 0.6882, 0.0921, 0.4275, 0.0823, 0.3793, 0.5799],\n",
      "        [0.0739, 0.4240, 0.1025, 0.2704, 0.3509, 0.4815, 0.3165]])\n"
     ]
    }
   ],
   "source": [
    "y = torch.rand(size = (1, 7))\n",
    "mul = torch.mm(x, y.T)\n",
    "print(mul)\n"
   ]
  },
  {
   "cell_type": "markdown",
   "id": "3bbea015-7a4a-4042-9e64-6556ee03a3de",
   "metadata": {},
   "source": [
    "4. Set the random seed to 0 and do exercises 2 & 3 over again."
   ]
  },
  {
   "cell_type": "code",
   "execution_count": 145,
   "id": "273f4935-fec6-4cf7-895f-f36106c8dad1",
   "metadata": {},
   "outputs": [
    {
     "name": "stdout",
     "output_type": "stream",
     "text": [
      "tensor([[0.1272, 0.8167, 0.5440, 0.6601, 0.2721, 0.9737, 0.3903],\n",
      "        [0.3394, 0.5451, 0.7312, 0.3864, 0.5959, 0.7578, 0.2126],\n",
      "        [0.7198, 0.9845, 0.5518, 0.0981, 0.0582, 0.5839, 0.1083],\n",
      "        [0.9461, 0.3170, 0.8328, 0.6676, 0.2886, 0.9022, 0.8115],\n",
      "        [0.1784, 0.9534, 0.1486, 0.3882, 0.7977, 0.1752, 0.5777],\n",
      "        [0.1949, 0.8499, 0.3125, 0.2156, 0.0383, 0.4934, 0.3138],\n",
      "        [0.3121, 0.5664, 0.1266, 0.7097, 0.0040, 0.5147, 0.2811]],\n",
      "       device='cuda:0')\n",
      "tensor([[0.6208, 0.0276, 0.3255, 0.1114, 0.6812, 0.3608, 0.1715]],\n",
      "       device='cuda:0')\n",
      "tensor([[0.9558],\n",
      "        [1.2227],\n",
      "        [0.9335],\n",
      "        [1.6030],\n",
      "        [0.9344],\n",
      "        [0.5282],\n",
      "        [0.5664]], device='cuda:0')\n"
     ]
    }
   ],
   "source": [
    "import random\n",
    "# random.seed(0) # this is not working\n",
    "# torch.manual_seed(10) # this is working for cpu and gpu both\n",
    "torch.cuda.manual_seed(1234) # this is to get reproducible results when using random generation on the GPU\n",
    "x = torch.rand(7,7, device = \"cuda\")\n",
    "print(x)\n",
    "\n",
    "\n",
    "y = torch.rand(1,7, device = \"cuda\")\n",
    "print(y)\n",
    "\n",
    "mul = torch.mm(x, y.T)\n",
    "print(mul)\n"
   ]
  },
  {
   "cell_type": "markdown",
   "id": "a36f429c-c86e-44e6-9659-f33d77189675",
   "metadata": {},
   "source": [
    "5. Speaking of random seeds, we saw how to set it with torch.manual_seed() but is there a GPU equivalent? (hint: you'll need to look into the documentation for torch.cuda for this one). If there is, set the GPU random seed to 1234."
   ]
  },
  {
   "cell_type": "markdown",
   "id": "7691fc15-0096-4bcb-b38b-3963116f82df",
   "metadata": {},
   "source": [
    "6. Create two random tensors of shape (2, 3) and send them both to the GPU (you'll need access to a GPU for this). Set torch.manual_seed(1234) when creating the tensors (this doesn't have to be the GPU random seed)."
   ]
  },
  {
   "cell_type": "code",
   "execution_count": 159,
   "id": "0391e6c8-7968-495d-a8fc-97bd093d760a",
   "metadata": {},
   "outputs": [
    {
     "name": "stdout",
     "output_type": "stream",
     "text": [
      "tensor([[0.1272, 0.8167, 0.5440],\n",
      "        [0.6601, 0.2721, 0.9737]], device='cuda:0') tensor([[0.6208, 0.0276, 0.3255],\n",
      "        [0.1114, 0.6812, 0.3608]], device='cuda:0')\n"
     ]
    }
   ],
   "source": [
    "torch.manual_seed(1234)\n",
    "x = torch.rand(size = (2,3), device=\"cuda\")\n",
    "y = torch.rand(size = (2,3), device = \"cuda\")\n",
    "\n",
    "print(x, y)"
   ]
  },
  {
   "cell_type": "markdown",
   "id": "21bcaa30-d941-40ec-bc00-735b923f7751",
   "metadata": {},
   "source": [
    "7. Perform a matrix multiplication on the tensors you created in 6 (again, you may have to adjust the shapes of one of the tensors)."
   ]
  },
  {
   "cell_type": "code",
   "execution_count": 167,
   "id": "4bb863d9-edf6-4d8d-918f-16e68856350d",
   "metadata": {},
   "outputs": [
    {
     "name": "stdout",
     "output_type": "stream",
     "text": [
      "tensor([[0.2786, 0.7668],\n",
      "        [0.7343, 0.6102]], device='cuda:0')\n"
     ]
    }
   ],
   "source": [
    "mul = torch.mm(x, y.T)\n",
    "print(mul)\n"
   ]
  },
  {
   "cell_type": "markdown",
   "id": "965b832c-1637-4ad4-9fb2-3ffe12b4879c",
   "metadata": {},
   "source": [
    "8. Find the maximum and minimum values of the output of 7."
   ]
  },
  {
   "cell_type": "code",
   "execution_count": 169,
   "id": "899451be-0bd2-42e3-a789-9b1e97c80d5d",
   "metadata": {},
   "outputs": [
    {
     "name": "stdout",
     "output_type": "stream",
     "text": [
      "Maximum is: 0.7667766809463501\n",
      "Maximum is: 0.7667766809463501\n",
      "Minimum is: 0.27863210439682007\n",
      "Minimum is: 0.27863210439682007\n"
     ]
    }
   ],
   "source": [
    "\n",
    "print(f\"Maximum is: {torch.max(mul)}\")\n",
    "print(f\"Maximum is: {mul.max()}\")\n",
    "\n",
    "print(f\"Minimum is: {torch.min(mul)}\")\n",
    "print(f\"Minimum is: {mul.min()}\")"
   ]
  },
  {
   "cell_type": "markdown",
   "id": "bc42b71c-ccd8-4133-a79a-b9a948756913",
   "metadata": {},
   "source": [
    "9. Find the maximum and minimum index values of the output of 7."
   ]
  },
  {
   "cell_type": "code",
   "execution_count": 170,
   "id": "299c30e1-f398-4b53-b112-3ba005ff3a6d",
   "metadata": {},
   "outputs": [
    {
     "name": "stdout",
     "output_type": "stream",
     "text": [
      "Index of Maximum(0.7667766809463501): 1\n",
      "Index of Maximum(0.7667766809463501: 1\n",
      "Index of Minimum(0.27863210439682007): 0\n",
      "Index of Minimum(0.27863210439682007): 0\n"
     ]
    }
   ],
   "source": [
    "print(f\"Index of Maximum({torch.max(mul)}): {torch.argmax(mul)}\")\n",
    "print(f\"Index of Maximum({mul.max()}: {mul.argmax()}\")\n",
    "\n",
    "print(f\"Index of Minimum({torch.min(mul)}): {torch.argmin(mul)}\")\n",
    "print(f\"Index of Minimum({mul.min()}): {mul.argmin()}\")"
   ]
  },
  {
   "cell_type": "markdown",
   "id": "183bf592-c22e-42fb-9400-aff4f5ca696f",
   "metadata": {},
   "source": [
    "10. Make a random tensor with shape (1, 1, 1, 10) and then create a new tensor with all the 1 dimensions removed to be left with a tensor of shape (10). Set the seed to 7 when you create it and print out the first tensor and it's shape as well as the second tensor and it's shape.\n"
   ]
  },
  {
   "cell_type": "code",
   "execution_count": 173,
   "id": "ad4cf9c8-518d-4149-9ebc-11132689261b",
   "metadata": {},
   "outputs": [
    {
     "name": "stdout",
     "output_type": "stream",
     "text": [
      "Before squeezing : torch.Size([1, 1, 1, 10])\n",
      "After squeezing : torch.Size([10])\n"
     ]
    }
   ],
   "source": [
    "t = torch.rand(size = (1,1,1,10))\n",
    "print(f\"Before squeezing : {t.shape}\")\n",
    "print(f\"Before squeezing tensor: {t}\")\n",
    "t_squeezed = t.squeeze()\n",
    "print(f\"After squeezing : {t_squeezed.shape}\")\n",
    "print()"
   ]
  }
 ],
 "metadata": {
  "kernelspec": {
   "display_name": "Python 3 (ipykernel)",
   "language": "python",
   "name": "python3"
  },
  "language_info": {
   "codemirror_mode": {
    "name": "ipython",
    "version": 3
   },
   "file_extension": ".py",
   "mimetype": "text/x-python",
   "name": "python",
   "nbconvert_exporter": "python",
   "pygments_lexer": "ipython3",
   "version": "3.11.9"
  }
 },
 "nbformat": 4,
 "nbformat_minor": 5
}
